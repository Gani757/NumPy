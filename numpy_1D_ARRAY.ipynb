{
 "cells": [
  {
   "cell_type": "code",
   "execution_count": 8,
   "id": "7209b0f4-0974-4e06-9e84-80d2175f827f",
   "metadata": {},
   "outputs": [],
   "source": [
    "# ***NumPY (\"Numerical Python\")***"
   ]
  },
  {
   "cell_type": "code",
   "execution_count": 10,
   "id": "9c81e7fc-1ea9-4057-a8de-a958b9ad1570",
   "metadata": {},
   "outputs": [],
   "source": [
    "import  numpy as np\n"
   ]
  },
  {
   "cell_type": "markdown",
   "id": "8f616fd1-9577-4aea-966a-6141169b4845",
   "metadata": {},
   "source": [
    "0-D"
   ]
  },
  {
   "cell_type": "code",
   "execution_count": 13,
   "id": "92f7575b-a7cc-4ce2-a08f-f8fe76abfb42",
   "metadata": {},
   "outputs": [
    {
     "name": "stdout",
     "output_type": "stream",
     "text": [
      "45\n",
      "<class 'int'>\n"
     ]
    }
   ],
   "source": [
    "a=45\n",
    "print(a)\n",
    "print(type(a))"
   ]
  },
  {
   "cell_type": "code",
   "execution_count": 23,
   "id": "435bf827-7386-4755-a3da-80e89b48388e",
   "metadata": {},
   "outputs": [
    {
     "name": "stdout",
     "output_type": "stream",
     "text": [
      "45\n",
      "<class 'numpy.ndarray'>\n"
     ]
    }
   ],
   "source": [
    "c=45\n",
    "arr_0=np.array(c)\n",
    "print(arr_0)\n",
    "print(type(arr_0))"
   ]
  },
  {
   "cell_type": "code",
   "execution_count": 21,
   "id": "e3729bc3-8c2c-406d-8279-44459b2063f3",
   "metadata": {},
   "outputs": [
    {
     "data": {
      "text/plain": [
       "0"
      ]
     },
     "execution_count": 21,
     "metadata": {},
     "output_type": "execute_result"
    }
   ],
   "source": [
    "arr_0.ndim    #prints the dimension"
   ]
  },
  {
   "cell_type": "code",
   "execution_count": 25,
   "id": "c4159bc7-c6ce-4672-860a-1f8e314d0c19",
   "metadata": {},
   "outputs": [
    {
     "data": {
      "text/plain": [
       "()"
      ]
     },
     "execution_count": 25,
     "metadata": {},
     "output_type": "execute_result"
    }
   ],
   "source": [
    "arr_0.shape"
   ]
  },
  {
   "cell_type": "markdown",
   "id": "5754358f-9eac-4d70-9b2f-0b2be392da9e",
   "metadata": {},
   "source": [
    "1-D"
   ]
  },
  {
   "cell_type": "code",
   "execution_count": 48,
   "id": "b8aaebbe-e701-4435-ad19-2d6be7a23337",
   "metadata": {},
   "outputs": [
    {
     "name": "stdout",
     "output_type": "stream",
     "text": [
      "[ 1 12]\n"
     ]
    }
   ],
   "source": [
    "d=[1,12]\n",
    "arr_1=np.array(d)\n",
    "print(arr_1)\n",
    "\n",
    "# here o/p is array  [1 12] from the list[1, 12]"
   ]
  },
  {
   "cell_type": "code",
   "execution_count": 50,
   "id": "0deed511-4ed3-41db-a008-13fcf05a69a8",
   "metadata": {},
   "outputs": [
    {
     "data": {
      "text/plain": [
       "1"
      ]
     },
     "execution_count": 50,
     "metadata": {},
     "output_type": "execute_result"
    }
   ],
   "source": [
    "arr_1.ndim"
   ]
  },
  {
   "cell_type": "code",
   "execution_count": 52,
   "id": "2555f1d2-fc73-498f-a490-85588a3f2d5e",
   "metadata": {},
   "outputs": [
    {
     "data": {
      "text/plain": [
       "(2,)"
      ]
     },
     "execution_count": 52,
     "metadata": {},
     "output_type": "execute_result"
    }
   ],
   "source": [
    "arr_1.shape   # ( rows , colums)"
   ]
  },
  {
   "cell_type": "code",
   "execution_count": 34,
   "id": "94d6b40e-84a2-4147-83d8-bfa781fd908e",
   "metadata": {},
   "outputs": [
    {
     "name": "stdout",
     "output_type": "stream",
     "text": [
      "[[1 2 3]]\n"
     ]
    }
   ],
   "source": [
    "a=[[1,2,3]]   # list of list\n",
    "arr_2=np.array(a)\n",
    "print(arr_2)"
   ]
  },
  {
   "cell_type": "code",
   "execution_count": 36,
   "id": "24a056d1-9e72-4a94-8107-54a525059016",
   "metadata": {},
   "outputs": [
    {
     "data": {
      "text/plain": [
       "2"
      ]
     },
     "execution_count": 36,
     "metadata": {},
     "output_type": "execute_result"
    }
   ],
   "source": [
    "arr_2.ndim"
   ]
  },
  {
   "cell_type": "code",
   "execution_count": 38,
   "id": "0d30b2f8-ad21-46f3-acd9-9fb80efda78a",
   "metadata": {},
   "outputs": [
    {
     "data": {
      "text/plain": [
       "(1, 3)"
      ]
     },
     "execution_count": 38,
     "metadata": {},
     "output_type": "execute_result"
    }
   ],
   "source": [
    "arr_2.shape   #(1,3) is (1 row, 3 col)"
   ]
  },
  {
   "cell_type": "markdown",
   "id": "5d0bda97-3b55-4301-a86d-1d5ca9bde049",
   "metadata": {},
   "source": [
    ">>>functions for creating 1D array\n",
    "syntax: np.arange(start,end,step)\n"
   ]
  },
  {
   "cell_type": "code",
   "execution_count": 101,
   "id": "1bae0b98-28d1-43b0-8037-2f301eb5da9a",
   "metadata": {},
   "outputs": [
    {
     "name": "stdout",
     "output_type": "stream",
     "text": [
      "[0 1 2 3 4 5 6 7 8 9]\n"
     ]
    }
   ],
   "source": [
    "a=np.arange(10)\n",
    "print(a)"
   ]
  },
  {
   "cell_type": "markdown",
   "id": "a06d4750-23b0-43cd-92ac-3dac9adb8bcf",
   "metadata": {},
   "source": [
    ">>>>linspace \n",
    "syntax: np.linespace(start,end,num_of_samples)"
   ]
  },
  {
   "cell_type": "code",
   "execution_count": 112,
   "id": "288b41ef-804e-4c20-b793-6b277118e69f",
   "metadata": {},
   "outputs": [
    {
     "data": {
      "text/plain": [
       "array([1., 2., 3., 4., 5.])"
      ]
     },
     "execution_count": 112,
     "metadata": {},
     "output_type": "execute_result"
    }
   ],
   "source": [
    "np.linspace(1,5,5)"
   ]
  },
  {
   "cell_type": "markdown",
   "id": "42978f80-944b-44d2-8fbe-c250065994c0",
   "metadata": {},
   "source": [
    ">>>zeros \n",
    "syntax: np.zeros(shape)"
   ]
  },
  {
   "cell_type": "code",
   "execution_count": 118,
   "id": "0b012467-3ac0-4c2d-988b-1f3f1d3d264e",
   "metadata": {},
   "outputs": [
    {
     "data": {
      "text/plain": [
       "array([0., 0., 0., 0.])"
      ]
     },
     "execution_count": 118,
     "metadata": {},
     "output_type": "execute_result"
    }
   ],
   "source": [
    "np.zeros((4),)"
   ]
  },
  {
   "cell_type": "markdown",
   "id": "ccd18dd1-7c33-479b-8e62-22812b2b2416",
   "metadata": {},
   "source": [
    ">>>>ones\n",
    "syntax: np.ones(shape)"
   ]
  },
  {
   "cell_type": "code",
   "execution_count": 120,
   "id": "561f1c43-42d6-4f54-9e79-d450f00e84c3",
   "metadata": {},
   "outputs": [
    {
     "data": {
      "text/plain": [
       "array([1., 1., 1.])"
      ]
     },
     "execution_count": 120,
     "metadata": {},
     "output_type": "execute_result"
    }
   ],
   "source": [
    "np.ones((3,))"
   ]
  },
  {
   "cell_type": "markdown",
   "id": "bb7d5094-56a4-4494-8190-9aff0a52dbcf",
   "metadata": {},
   "source": [
    ">>>>random.randint\n",
    "syntax: np.random.randint(start,end,num_of_samples)\n"
   ]
  },
  {
   "cell_type": "code",
   "execution_count": 126,
   "id": "d879bb51-45b7-4c9b-87ee-cd0fbd3230bc",
   "metadata": {},
   "outputs": [
    {
     "data": {
      "text/plain": [
       "array([19, 15, 22, 13,  2, 21,  4])"
      ]
     },
     "execution_count": 126,
     "metadata": {},
     "output_type": "execute_result"
    }
   ],
   "source": [
    "np.random.randint(1,23,7)"
   ]
  },
  {
   "cell_type": "markdown",
   "id": "27cad63b-508a-4b1b-8aa1-bfa3ce43c091",
   "metadata": {},
   "source": [
    ">>>Accesing elements/Extarcting the values\n"
   ]
  },
  {
   "cell_type": "code",
   "execution_count": 137,
   "id": "2ec141ab-109e-4db5-aca8-6d1987fbaf60",
   "metadata": {},
   "outputs": [
    {
     "name": "stdout",
     "output_type": "stream",
     "text": [
      "[1 2 3 4 5 6 7 8]\n"
     ]
    }
   ],
   "source": [
    "a=np.arange(1,9)\n",
    "print(a)\n"
   ]
  },
  {
   "cell_type": "markdown",
   "id": "7ebb5bf3-c2bc-4e5b-ad8a-42b7fe19d261",
   "metadata": {},
   "source": [
    ">>>>Accessing single value through indexing"
   ]
  },
  {
   "cell_type": "code",
   "execution_count": 139,
   "id": "44768928-58fd-42f0-b8af-526ea8c60814",
   "metadata": {},
   "outputs": [
    {
     "data": {
      "text/plain": [
       "2"
      ]
     },
     "execution_count": 139,
     "metadata": {},
     "output_type": "execute_result"
    }
   ],
   "source": [
    "a[1]"
   ]
  },
  {
   "cell_type": "code",
   "execution_count": 141,
   "id": "1bf17314-1cd8-4345-ac90-7309663a7640",
   "metadata": {},
   "outputs": [
    {
     "data": {
      "text/plain": [
       "8"
      ]
     },
     "execution_count": 141,
     "metadata": {},
     "output_type": "execute_result"
    }
   ],
   "source": [
    "a[-1]"
   ]
  },
  {
   "cell_type": "markdown",
   "id": "519e772f-0135-43be-9257-9a2bd700294e",
   "metadata": {},
   "source": [
    ">>>>Accessing multiple value using slicing"
   ]
  },
  {
   "cell_type": "code",
   "execution_count": 145,
   "id": "9d2d40a2-e6cb-48cd-b1e8-73fc1be60bc0",
   "metadata": {},
   "outputs": [
    {
     "data": {
      "text/plain": [
       "array([3, 4, 5, 6])"
      ]
     },
     "execution_count": 145,
     "metadata": {},
     "output_type": "execute_result"
    }
   ],
   "source": [
    "a[2:6]"
   ]
  },
  {
   "cell_type": "markdown",
   "id": "1acbdbfb-72ae-4673-97f5-83fe65d39f50",
   "metadata": {},
   "source": [
    ">>>>Accessing multiple value using indexing"
   ]
  },
  {
   "cell_type": "code",
   "execution_count": 155,
   "id": "f1e19c22-5e6c-4f93-8ef6-80bc72bcf92a",
   "metadata": {},
   "outputs": [
    {
     "data": {
      "text/plain": [
       "array([1, 3, 6])"
      ]
     },
     "execution_count": 155,
     "metadata": {},
     "output_type": "execute_result"
    }
   ],
   "source": [
    "a[[0,2,5]]"
   ]
  },
  {
   "cell_type": "markdown",
   "id": "2f5f3035-c7f6-49dd-8267-8b7085b80ffb",
   "metadata": {},
   "source": [
    ">>>>Accessing multiple value using indexing"
   ]
  },
  {
   "cell_type": "code",
   "execution_count": 157,
   "id": "18b8cb1e-7615-4a2a-a8e7-d95de45461ab",
   "metadata": {},
   "outputs": [
    {
     "data": {
      "text/plain": [
       "array([2, 4, 6])"
      ]
     },
     "execution_count": 157,
     "metadata": {},
     "output_type": "execute_result"
    }
   ],
   "source": [
    "a=np.array([1,2,3,4,5,6])\n",
    "a[a%2==0]   # check the t/f condtion and appends in a"
   ]
  },
  {
   "cell_type": "code",
   "execution_count": 159,
   "id": "c00c6f7d-fd29-439e-bb7b-bb1f74bd73cd",
   "metadata": {},
   "outputs": [
    {
     "data": {
      "text/plain": [
       "array([ 3,  6,  9, 12, 15, 18, 21, 24, 27, 30, 33, 36, 39, 42, 45, 48])"
      ]
     },
     "execution_count": 159,
     "metadata": {},
     "output_type": "execute_result"
    }
   ],
   "source": [
    "a=np.arange(1,49)\n",
    "a[a%3==0]"
   ]
  },
  {
   "cell_type": "markdown",
   "id": "ba7fcfd4-aaaf-4d35-8b68-15329d269fba",
   "metadata": {},
   "source": [
    ">>>Modify the values in numpy\n",
    "syntax: np.append(array,value)"
   ]
  },
  {
   "cell_type": "code",
   "execution_count": 171,
   "id": "fea9c037-68ca-4d8f-9080-2052e137a092",
   "metadata": {},
   "outputs": [
    {
     "name": "stdout",
     "output_type": "stream",
     "text": [
      "[ 1  2  3  4 23]\n"
     ]
    }
   ],
   "source": [
    "# add single value in array\n",
    "\n",
    "a=np.array([1,2,3,4])\n",
    "print(np.append(a,23))"
   ]
  },
  {
   "cell_type": "code",
   "execution_count": 177,
   "id": "2109868a-281f-487a-a8be-9073c97275c4",
   "metadata": {},
   "outputs": [
    {
     "name": "stdout",
     "output_type": "stream",
     "text": [
      "[ 1  2  3  4 11 22 33 44]\n"
     ]
    }
   ],
   "source": [
    "# add multiple values in the array\n",
    "a=np.array([1,2,3,4])\n",
    "print(np.append(a,[11,22,33,44]))  #to input more than one value use list ex:[a,23] and [a,[1,2,2]]"
   ]
  },
  {
   "cell_type": "code",
   "execution_count": 182,
   "id": "9879f62c-2ebd-4826-aee9-b2e6a5c57c0b",
   "metadata": {},
   "outputs": [
    {
     "name": "stdout",
     "output_type": "stream",
     "text": [
      "[21  2  3  4]\n"
     ]
    }
   ],
   "source": [
    "# replacing a single value in a 1D array\n",
    "a[0]=21\n",
    "print(a)"
   ]
  },
  {
   "cell_type": "code",
   "execution_count": 186,
   "id": "37a02306-026f-4f6c-97bc-8a376bffe47f",
   "metadata": {},
   "outputs": [
    {
     "name": "stdout",
     "output_type": "stream",
     "text": [
      "[21 15  3 15]\n"
     ]
    }
   ],
   "source": [
    "# replacing multiple value with a single value in  array\n",
    "a[[1,3]]=15\n",
    "print(a)"
   ]
  },
  {
   "cell_type": "code",
   "execution_count": 188,
   "id": "3c8cb40b-7cbe-4e86-88de-83cc91f45b4a",
   "metadata": {},
   "outputs": [
    {
     "name": "stdout",
     "output_type": "stream",
     "text": [
      "[21 12  3 23]\n"
     ]
    }
   ],
   "source": [
    "# replacing multiple value with a multiple value in  array\n",
    "a[[1,3]]=[12,23]\n",
    "print(a)"
   ]
  },
  {
   "cell_type": "markdown",
   "id": "8fd22e10-6cfb-4599-bef3-79922779a4d6",
   "metadata": {},
   "source": [
    ">>>>delete a single value in array\n",
    "syntax: np.delete(array,indexnumber)"
   ]
  },
  {
   "cell_type": "code",
   "execution_count": 194,
   "id": "e14a0777-eb95-477b-824a-2143a3ecdee7",
   "metadata": {},
   "outputs": [
    {
     "data": {
      "text/plain": [
       "array([12, 23])"
      ]
     },
     "execution_count": 194,
     "metadata": {},
     "output_type": "execute_result"
    }
   ],
   "source": [
    "np.delete(a,0)"
   ]
  },
  {
   "cell_type": "code",
   "execution_count": 196,
   "id": "e4b3f90a-2976-4e57-abbb-15ba0c3c2c38",
   "metadata": {},
   "outputs": [
    {
     "data": {
      "text/plain": [
       "array([12, 23])"
      ]
     },
     "execution_count": 196,
     "metadata": {},
     "output_type": "execute_result"
    }
   ],
   "source": [
    "# delete a multiple value in array\n",
    "\n",
    "np.delete(a,[0,2])\n"
   ]
  },
  {
   "cell_type": "code",
   "execution_count": 198,
   "id": "80509303-b8c7-4b1f-9b7f-7908cd3d1ce0",
   "metadata": {},
   "outputs": [
    {
     "name": "stdout",
     "output_type": "stream",
     "text": [
      "[1 2 3]\n",
      "[100   2   3]\n"
     ]
    }
   ],
   "source": [
    "#copy array\n",
    "a=np.array([1,2,3])\n",
    "b=a.copy()\n",
    "b[0]=100\n",
    "print(a)\n",
    "print(b)"
   ]
  },
  {
   "cell_type": "code",
   "execution_count": 202,
   "id": "e2c89c0d-2b22-45c5-96d3-f430dc33fcf6",
   "metadata": {},
   "outputs": [
    {
     "name": "stdout",
     "output_type": "stream",
     "text": [
      "[1 2 3 4]\n"
     ]
    }
   ],
   "source": [
    "# sorting an array\n",
    "a=np.array([1,4,3,2])\n",
    "b=np.sort(a)\n",
    "print(b)\n"
   ]
  },
  {
   "cell_type": "markdown",
   "id": "765af338-5e22-4209-a419-d48cf473b916",
   "metadata": {},
   "source": [
    "****operations****\n",
    ">>>>arithimetic\n",
    ">>>>comparision\n",
    ">>>>mathematical"
   ]
  },
  {
   "cell_type": "code",
   "execution_count": 240,
   "id": "28ad26c2-c7c9-4f15-856c-4eb2703db138",
   "metadata": {},
   "outputs": [
    {
     "name": "stdout",
     "output_type": "stream",
     "text": [
      "135\n"
     ]
    }
   ],
   "source": [
    "a=np.add(12,123)\n",
    "print(d)"
   ]
  },
  {
   "cell_type": "code",
   "execution_count": 242,
   "id": "d697c83e-f332-492b-95b4-276abc47dcca",
   "metadata": {},
   "outputs": [
    {
     "name": "stdout",
     "output_type": "stream",
     "text": [
      "134\n"
     ]
    }
   ],
   "source": [
    "b=a-1\n",
    "print(b)\n"
   ]
  },
  {
   "cell_type": "code",
   "execution_count": 244,
   "id": "a524dcda-f17e-4b61-826d-ebb39b16a18a",
   "metadata": {},
   "outputs": [
    {
     "data": {
      "text/plain": [
       "array([2, 3, 4, 5])"
      ]
     },
     "execution_count": 244,
     "metadata": {},
     "output_type": "execute_result"
    }
   ],
   "source": [
    "a=np.array([1,2,3,4])\n",
    "a+1"
   ]
  },
  {
   "cell_type": "code",
   "execution_count": 246,
   "id": "0e9693f0-cf36-4a8a-a143-5cce77bb457e",
   "metadata": {},
   "outputs": [
    {
     "data": {
      "text/plain": [
       "34"
      ]
     },
     "execution_count": 246,
     "metadata": {},
     "output_type": "execute_result"
    }
   ],
   "source": [
    "np.add(12,22)"
   ]
  },
  {
   "cell_type": "code",
   "execution_count": 230,
   "id": "b0afcc83-ddba-4b2d-8f6e-cdb62331fe3b",
   "metadata": {},
   "outputs": [
    {
     "name": "stdout",
     "output_type": "stream",
     "text": [
      "[ 1  4  9 16]\n"
     ]
    }
   ],
   "source": [
    "c=a**2  \n",
    "print(c)"
   ]
  },
  {
   "cell_type": "markdown",
   "id": "98bf1172-4843-4411-bb84-156b85bd9868",
   "metadata": {},
   "source": [
    ">>>comparision operators"
   ]
  },
  {
   "cell_type": "code",
   "execution_count": 248,
   "id": "fd0bc7e6-8de0-435d-82e4-de1911a97643",
   "metadata": {},
   "outputs": [
    {
     "data": {
      "text/plain": [
       "array([False, False, False, False])"
      ]
     },
     "execution_count": 248,
     "metadata": {},
     "output_type": "execute_result"
    }
   ],
   "source": [
    "a==b"
   ]
  },
  {
   "cell_type": "code",
   "execution_count": 250,
   "id": "01f295e3-a345-420f-a131-fe509125beb2",
   "metadata": {},
   "outputs": [
    {
     "data": {
      "text/plain": [
       "array([ True, False, False, False])"
      ]
     },
     "execution_count": 250,
     "metadata": {},
     "output_type": "execute_result"
    }
   ],
   "source": [
    "c<=a"
   ]
  },
  {
   "cell_type": "markdown",
   "id": "45e22c03-503d-43fd-9042-16d7554fe12d",
   "metadata": {},
   "source": [
    ">>>mathemactical operations"
   ]
  },
  {
   "cell_type": "code",
   "execution_count": 254,
   "id": "64326b30-93c7-47d0-a970-a160af815d4a",
   "metadata": {},
   "outputs": [
    {
     "data": {
      "text/plain": [
       "array([ 2.71828183,  7.3890561 , 20.08553692, 54.59815003])"
      ]
     },
     "execution_count": 254,
     "metadata": {},
     "output_type": "execute_result"
    }
   ],
   "source": [
    "np.exp(a)"
   ]
  },
  {
   "cell_type": "code",
   "execution_count": 256,
   "id": "18b789f9-911c-4ab7-9214-11d98770b2e7",
   "metadata": {},
   "outputs": [
    {
     "data": {
      "text/plain": [
       "array([0.        , 0.69314718, 1.09861229, 1.38629436])"
      ]
     },
     "execution_count": 256,
     "metadata": {},
     "output_type": "execute_result"
    }
   ],
   "source": [
    "np.log(a)"
   ]
  },
  {
   "cell_type": "code",
   "execution_count": 260,
   "id": "8e14290e-46f1-4fe3-a920-e34a1f9e659b",
   "metadata": {},
   "outputs": [],
   "source": [
    "import warnings\n",
    "warnings.simplefilter(\"ignore\")"
   ]
  },
  {
   "cell_type": "markdown",
   "id": "78688ba8-6428-4f6b-89cd-12bdf5e85f66",
   "metadata": {},
   "source": [
    "2D Numpy array"
   ]
  },
  {
   "cell_type": "code",
   "execution_count": 264,
   "id": "9fc3dcc9-e92b-459f-a830-b847212835a4",
   "metadata": {},
   "outputs": [
    {
     "name": "stdout",
     "output_type": "stream",
     "text": [
      "[[ 1  2  3]\n",
      " [23  4  3]]\n"
     ]
    }
   ],
   "source": [
    "d=np.array([[1,2,3],[23,4,3]])\n",
    "print(d)"
   ]
  },
  {
   "cell_type": "code",
   "execution_count": 266,
   "id": "e6884b7a-479c-4ed7-864f-3ee22aa9e627",
   "metadata": {},
   "outputs": [
    {
     "data": {
      "text/plain": [
       "2"
      ]
     },
     "execution_count": 266,
     "metadata": {},
     "output_type": "execute_result"
    }
   ],
   "source": [
    "d.ndim"
   ]
  },
  {
   "cell_type": "code",
   "execution_count": 272,
   "id": "8d7d265f-5821-4465-8965-45f61006d3d4",
   "metadata": {},
   "outputs": [
    {
     "data": {
      "text/plain": [
       "(2, 3)"
      ]
     },
     "execution_count": 272,
     "metadata": {},
     "output_type": "execute_result"
    }
   ],
   "source": [
    "d.shape"
   ]
  },
  {
   "cell_type": "code",
   "execution_count": 278,
   "id": "cfc3b4e6-967e-47db-881d-9df857b5c922",
   "metadata": {},
   "outputs": [
    {
     "data": {
      "text/plain": [
       "array([[1., 0., 0.],\n",
       "       [0., 1., 0.],\n",
       "       [0., 0., 1.]])"
      ]
     },
     "execution_count": 278,
     "metadata": {},
     "output_type": "execute_result"
    }
   ],
   "source": [
    "#identity matrix\n",
    "np.eye(3,3)"
   ]
  },
  {
   "cell_type": "code",
   "execution_count": 280,
   "id": "ff55bf71-8c17-4efb-940f-6f279667e852",
   "metadata": {},
   "outputs": [
    {
     "data": {
      "text/plain": [
       "array([[1, 0, 0],\n",
       "       [0, 2, 0],\n",
       "       [0, 0, 3]])"
      ]
     },
     "execution_count": 280,
     "metadata": {},
     "output_type": "execute_result"
    }
   ],
   "source": [
    "#diagonal matrix\n",
    "np.diag([1,2,3])"
   ]
  },
  {
   "cell_type": "code",
   "execution_count": 296,
   "id": "267ba27a-9c5c-4d87-b3a3-7f4000dcc9b0",
   "metadata": {},
   "outputs": [
    {
     "name": "stdout",
     "output_type": "stream",
     "text": [
      "[1 4]\n"
     ]
    }
   ],
   "source": [
    "#diagonal matrix\n",
    "a=np.array([[1,2,3],[3,4,5]])\n",
    "print(np.diag(a))"
   ]
  },
  {
   "cell_type": "code",
   "execution_count": 290,
   "id": "1f063505-402f-4d92-be66-ce1cb4f61666",
   "metadata": {},
   "outputs": [
    {
     "data": {
      "text/plain": [
       "array([[1, 0, 0],\n",
       "       [0, 2, 0],\n",
       "       [0, 0, 3]])"
      ]
     },
     "execution_count": 290,
     "metadata": {},
     "output_type": "execute_result"
    }
   ],
   "source": [
    "np.diag([1,2,3])"
   ]
  },
  {
   "cell_type": "code",
   "execution_count": 298,
   "id": "93fad17b-fd0c-411f-8767-207399a15dfa",
   "metadata": {},
   "outputs": [
    {
     "data": {
      "text/plain": [
       "array([1, 2, 3])"
      ]
     },
     "execution_count": 298,
     "metadata": {},
     "output_type": "execute_result"
    }
   ],
   "source": [
    "a[0]"
   ]
  },
  {
   "cell_type": "markdown",
   "id": "7f88eb3d-7cf8-41f3-b7ae-e1a6e55147af",
   "metadata": {},
   "source": [
    "converting nd array to 1D array"
   ]
  },
  {
   "cell_type": "code",
   "execution_count": 307,
   "id": "ec6702c7-38d0-4420-9fc7-e66f2e07ea75",
   "metadata": {},
   "outputs": [
    {
     "name": "stdout",
     "output_type": "stream",
     "text": [
      "[[1 2 3]\n",
      " [5 6 7]]\n",
      "[1 2 3 5 6 7]\n"
     ]
    }
   ],
   "source": [
    "a= np.array([[1,2,3],[5,6,7]])\n",
    "print(a)\n",
    "\n",
    "b=a.ravel()\n",
    "print(b)"
   ]
  },
  {
   "cell_type": "markdown",
   "id": "ec1848f5-673c-499e-89b5-856df74a3103",
   "metadata": {},
   "source": [
    "reshape array"
   ]
  },
  {
   "cell_type": "code",
   "execution_count": 309,
   "id": "daed6e90-b219-46f1-803c-2f82f94e268c",
   "metadata": {},
   "outputs": [
    {
     "name": "stdout",
     "output_type": "stream",
     "text": [
      "[0 1 2 3 4 5]\n",
      "(6,)\n"
     ]
    }
   ],
   "source": [
    "arr = np.arange(6)\n",
    "print(arr)\n",
    "print(arr.shape)"
   ]
  },
  {
   "cell_type": "code",
   "execution_count": 311,
   "id": "013613fd-1e03-4b76-b7fd-b3782ffc1931",
   "metadata": {},
   "outputs": [
    {
     "name": "stdout",
     "output_type": "stream",
     "text": [
      "[[0 1 2]\n",
      " [3 4 5]]\n"
     ]
    }
   ],
   "source": [
    "a1=arr.reshape(2,3)\n",
    "print(a1)"
   ]
  },
  {
   "cell_type": "code",
   "execution_count": 313,
   "id": "c7d61965-60b8-48b0-9d60-be8cd6a38f8e",
   "metadata": {},
   "outputs": [
    {
     "name": "stdout",
     "output_type": "stream",
     "text": [
      "[[ 0  1  5]\n",
      " [10 50  8]]\n",
      "(2, 3)\n"
     ]
    }
   ],
   "source": [
    "a=np.array([[0,1,5],[10,50,8]])\n",
    "print(a)\n",
    "print(a.shape)"
   ]
  },
  {
   "cell_type": "code",
   "execution_count": 315,
   "id": "c204680e-a4ee-4c2d-a85f-867ad6e04533",
   "metadata": {},
   "outputs": [
    {
     "name": "stdout",
     "output_type": "stream",
     "text": [
      "[[ 0  1]\n",
      " [ 5 10]\n",
      " [50  8]]\n"
     ]
    }
   ],
   "source": [
    "print(a.reshape(3,2))"
   ]
  },
  {
   "cell_type": "code",
   "execution_count": 317,
   "id": "faf219b0-20a3-4878-b502-6b8c642eb95a",
   "metadata": {},
   "outputs": [
    {
     "name": "stdout",
     "output_type": "stream",
     "text": [
      "[[ 0 10]\n",
      " [ 1 50]\n",
      " [ 5  8]]\n"
     ]
    }
   ],
   "source": [
    "c= a.T\n",
    "print(c)"
   ]
  },
  {
   "cell_type": "code",
   "execution_count": 325,
   "id": "0751ef56-c664-4e21-813c-1a9e31e94743",
   "metadata": {},
   "outputs": [
    {
     "data": {
      "text/plain": [
       "array([[ 2,  4,  2],\n",
       "       [ 5,  8,  6],\n",
       "       [ 8,  9, 20]])"
      ]
     },
     "execution_count": 325,
     "metadata": {},
     "output_type": "execute_result"
    }
   ],
   "source": [
    "\n",
    "#sorting along an axis=1 --->row and axis=0-->column\n",
    "a = np.array([[5,4,6],[2,8,2],[8,9,20]])\n",
    "b = np.sort(a,axis=0)\n",
    "b\n"
   ]
  },
  {
   "cell_type": "code",
   "execution_count": 335,
   "id": "765458d1-6f76-429a-9231-642ef87a1814",
   "metadata": {},
   "outputs": [
    {
     "name": "stdout",
     "output_type": "stream",
     "text": [
      "[[41  6]\n",
      " [27 18]\n",
      " [60 42]]\n"
     ]
    }
   ],
   "source": [
    "a = np.array([[1,2],[3,4],[5,6]])\n",
    "b = np.array([[40,4],[24,14],[55,36]])\n",
    "print(a+b)"
   ]
  },
  {
   "cell_type": "code",
   "execution_count": 347,
   "id": "707b3210-814d-43aa-b418-82cc268aa641",
   "metadata": {},
   "outputs": [
    {
     "ename": "ValueError",
     "evalue": "matmul: Input operand 1 has a mismatch in its core dimension 0, with gufunc signature (n?,k),(k,m?)->(n?,m?) (size 3 is different from 2)",
     "output_type": "error",
     "traceback": [
      "\u001b[1;31m---------------------------------------------------------------------------\u001b[0m",
      "\u001b[1;31mValueError\u001b[0m                                Traceback (most recent call last)",
      "Cell \u001b[1;32mIn[347], line 3\u001b[0m\n\u001b[0;32m      1\u001b[0m c \u001b[38;5;241m=\u001b[39m np\u001b[38;5;241m.\u001b[39marray([[\u001b[38;5;241m1\u001b[39m,\u001b[38;5;241m2\u001b[39m],[\u001b[38;5;241m3\u001b[39m,\u001b[38;5;241m4\u001b[39m],[\u001b[38;5;241m5\u001b[39m,\u001b[38;5;241m6\u001b[39m]])\n\u001b[0;32m      2\u001b[0m d \u001b[38;5;241m=\u001b[39m np\u001b[38;5;241m.\u001b[39marray([[\u001b[38;5;241m40\u001b[39m,\u001b[38;5;241m4\u001b[39m],[\u001b[38;5;241m24\u001b[39m,\u001b[38;5;241m14\u001b[39m],[\u001b[38;5;241m55\u001b[39m,\u001b[38;5;241m36\u001b[39m]])\n\u001b[1;32m----> 3\u001b[0m np\u001b[38;5;241m.\u001b[39mmatmul(c,d)\n",
      "\u001b[1;31mValueError\u001b[0m: matmul: Input operand 1 has a mismatch in its core dimension 0, with gufunc signature (n?,k),(k,m?)->(n?,m?) (size 3 is different from 2)"
     ]
    }
   ],
   "source": [
    "c = np.array([[1,2],[3,4],[5,6]])\n",
    "d = np.array([[40,4],[24,14],[55,36]])\n",
    "np.matmul(c,d)"
   ]
  },
  {
   "cell_type": "code",
   "execution_count": 349,
   "id": "14395e1b-eec5-4c3a-a5bb-e4ff564d38f4",
   "metadata": {},
   "outputs": [
    {
     "data": {
      "text/plain": [
       "array([[ 1,  2],\n",
       "       [ 3,  4],\n",
       "       [ 5,  6],\n",
       "       [40,  4],\n",
       "       [24, 14],\n",
       "       [55, 36]])"
      ]
     },
     "execution_count": 349,
     "metadata": {},
     "output_type": "execute_result"
    }
   ],
   "source": [
    "np.concatenate((a,b),axis=0)"
   ]
  },
  {
   "cell_type": "code",
   "execution_count": 351,
   "id": "3eda35a2-75f6-48c2-8ea5-b1d6f3f521f2",
   "metadata": {},
   "outputs": [
    {
     "data": {
      "text/plain": [
       "array([[ 1,  2],\n",
       "       [ 3,  4],\n",
       "       [ 5,  6],\n",
       "       [40,  4],\n",
       "       [24, 14],\n",
       "       [55, 36]])"
      ]
     },
     "execution_count": 351,
     "metadata": {},
     "output_type": "execute_result"
    }
   ],
   "source": [
    "#vertical stack\n",
    "np.vstack((a,b))"
   ]
  },
  {
   "cell_type": "code",
   "execution_count": 353,
   "id": "bec72973-9688-4f7f-b988-a7b98342e29d",
   "metadata": {},
   "outputs": [
    {
     "data": {
      "text/plain": [
       "array([[ 1,  2, 40,  4],\n",
       "       [ 3,  4, 24, 14],\n",
       "       [ 5,  6, 55, 36]])"
      ]
     },
     "execution_count": 353,
     "metadata": {},
     "output_type": "execute_result"
    }
   ],
   "source": [
    "#horizontal stack\n",
    "np.hstack((a,b))"
   ]
  },
  {
   "cell_type": "code",
   "execution_count": null,
   "id": "dfe63cbc-ee9b-4ed1-a8a8-12294649348a",
   "metadata": {},
   "outputs": [],
   "source": []
  },
  {
   "cell_type": "code",
   "execution_count": null,
   "id": "df65f068-8c2c-42d5-8df8-9b4543f51c4e",
   "metadata": {},
   "outputs": [],
   "source": []
  },
  {
   "cell_type": "code",
   "execution_count": null,
   "id": "27d58195-8dba-49ee-8c11-16f8420b48b5",
   "metadata": {},
   "outputs": [],
   "source": []
  },
  {
   "cell_type": "code",
   "execution_count": null,
   "id": "5f95e0c5-aac9-4ada-b783-dc95cf93a4b0",
   "metadata": {},
   "outputs": [],
   "source": []
  },
  {
   "cell_type": "code",
   "execution_count": null,
   "id": "c4bf120e-90ed-4bf1-a514-f065fa2e940a",
   "metadata": {},
   "outputs": [],
   "source": []
  },
  {
   "cell_type": "code",
   "execution_count": null,
   "id": "15f7a04d-325f-41f3-a93b-2d2a1b41d59f",
   "metadata": {},
   "outputs": [],
   "source": []
  },
  {
   "cell_type": "code",
   "execution_count": null,
   "id": "e605eeb4-3961-45f8-97c9-7a931d33a742",
   "metadata": {},
   "outputs": [],
   "source": []
  },
  {
   "cell_type": "code",
   "execution_count": null,
   "id": "eb0ecbfe-ce89-411c-bc93-2d2c47470471",
   "metadata": {},
   "outputs": [],
   "source": []
  },
  {
   "cell_type": "code",
   "execution_count": null,
   "id": "81e72778-2fd6-4aeb-8c61-25bcdedb37e8",
   "metadata": {},
   "outputs": [],
   "source": []
  },
  {
   "cell_type": "code",
   "execution_count": null,
   "id": "12b5ce06-da76-4cf1-a06b-b1791294ac63",
   "metadata": {},
   "outputs": [],
   "source": []
  },
  {
   "cell_type": "code",
   "execution_count": null,
   "id": "48b8e16d-5660-4bb3-b9f8-79a831459edf",
   "metadata": {},
   "outputs": [],
   "source": []
  },
  {
   "cell_type": "code",
   "execution_count": null,
   "id": "9610a4da-b171-4dfa-94a1-d1a9ad34db03",
   "metadata": {},
   "outputs": [],
   "source": []
  },
  {
   "cell_type": "code",
   "execution_count": null,
   "id": "7a0dd1cb-cc5d-4aed-88b9-1876528e730a",
   "metadata": {},
   "outputs": [],
   "source": []
  },
  {
   "cell_type": "code",
   "execution_count": null,
   "id": "ae894a1e-796a-4d2c-8d47-943fa5e68a1a",
   "metadata": {},
   "outputs": [],
   "source": []
  },
  {
   "cell_type": "code",
   "execution_count": null,
   "id": "5d9ada85-5f0d-4415-b1ff-4d702b90cc75",
   "metadata": {},
   "outputs": [],
   "source": []
  },
  {
   "cell_type": "code",
   "execution_count": null,
   "id": "86f39634-beba-4a9e-9c6c-07837181691f",
   "metadata": {},
   "outputs": [],
   "source": []
  },
  {
   "cell_type": "code",
   "execution_count": null,
   "id": "777ee3b5-1baa-402f-a0d0-e8a8be01c8b8",
   "metadata": {},
   "outputs": [],
   "source": []
  },
  {
   "cell_type": "code",
   "execution_count": null,
   "id": "c6a5454d-727c-4c39-a7d5-3d55df78215a",
   "metadata": {},
   "outputs": [],
   "source": []
  },
  {
   "cell_type": "code",
   "execution_count": null,
   "id": "33418566-ed83-4f7d-b537-867abc2e89b7",
   "metadata": {},
   "outputs": [],
   "source": []
  },
  {
   "cell_type": "code",
   "execution_count": null,
   "id": "151576b1-d9d5-46ca-9b34-1f3273ebd593",
   "metadata": {},
   "outputs": [],
   "source": []
  },
  {
   "cell_type": "code",
   "execution_count": null,
   "id": "473a01e5-ed0e-4f41-b817-363966c1dc4f",
   "metadata": {},
   "outputs": [],
   "source": []
  },
  {
   "cell_type": "code",
   "execution_count": null,
   "id": "68987f4a-8a42-45c9-bafa-07bc3e9e11c6",
   "metadata": {},
   "outputs": [],
   "source": []
  },
  {
   "cell_type": "code",
   "execution_count": null,
   "id": "eb9dae0a-573a-405e-b5f7-f543571b9315",
   "metadata": {},
   "outputs": [],
   "source": []
  },
  {
   "cell_type": "code",
   "execution_count": null,
   "id": "db8050e3-d46f-40da-a1b3-a57926f3c66f",
   "metadata": {},
   "outputs": [],
   "source": []
  },
  {
   "cell_type": "code",
   "execution_count": null,
   "id": "2f968789-0888-4400-a775-f20c362a524d",
   "metadata": {},
   "outputs": [],
   "source": []
  },
  {
   "cell_type": "code",
   "execution_count": null,
   "id": "32589f34-f528-4a53-a573-f50941a884f3",
   "metadata": {},
   "outputs": [],
   "source": []
  },
  {
   "cell_type": "code",
   "execution_count": null,
   "id": "0ab8a5f3-18ce-485b-87f0-9bd4203a80af",
   "metadata": {},
   "outputs": [],
   "source": []
  },
  {
   "cell_type": "code",
   "execution_count": null,
   "id": "59a4f3bf-c81a-44eb-9912-eb3ba1a1269a",
   "metadata": {},
   "outputs": [],
   "source": []
  },
  {
   "cell_type": "code",
   "execution_count": null,
   "id": "ffea17fa-4464-4902-8cc5-00f836dfc2a4",
   "metadata": {},
   "outputs": [],
   "source": []
  },
  {
   "cell_type": "code",
   "execution_count": null,
   "id": "794c9862-5192-4a34-8999-0e8ea323c3b3",
   "metadata": {},
   "outputs": [],
   "source": []
  },
  {
   "cell_type": "code",
   "execution_count": null,
   "id": "c6f301a7-9729-4c2f-85cf-e8a0232e80a2",
   "metadata": {},
   "outputs": [],
   "source": []
  },
  {
   "cell_type": "code",
   "execution_count": null,
   "id": "6a79a7ab-90db-4f29-a375-60285022bd3b",
   "metadata": {},
   "outputs": [],
   "source": []
  },
  {
   "cell_type": "code",
   "execution_count": null,
   "id": "b943b855-5679-4bb0-8888-6c43b9126dcc",
   "metadata": {},
   "outputs": [],
   "source": []
  },
  {
   "cell_type": "code",
   "execution_count": null,
   "id": "fd837617-ca8c-4298-a071-b77a5ef3bd20",
   "metadata": {},
   "outputs": [],
   "source": []
  },
  {
   "cell_type": "code",
   "execution_count": null,
   "id": "b4de3776-a5b3-46a0-97a8-d0a940ff8319",
   "metadata": {},
   "outputs": [],
   "source": []
  },
  {
   "cell_type": "code",
   "execution_count": null,
   "id": "057b313d-6e71-444c-942c-6c3fdde79b43",
   "metadata": {},
   "outputs": [],
   "source": []
  },
  {
   "cell_type": "code",
   "execution_count": null,
   "id": "c66c006a-6b4f-4b86-b76f-027a07ec202b",
   "metadata": {},
   "outputs": [],
   "source": []
  }
 ],
 "metadata": {
  "kernelspec": {
   "display_name": "Python [conda env:base] *",
   "language": "python",
   "name": "conda-base-py"
  },
  "language_info": {
   "codemirror_mode": {
    "name": "ipython",
    "version": 3
   },
   "file_extension": ".py",
   "mimetype": "text/x-python",
   "name": "python",
   "nbconvert_exporter": "python",
   "pygments_lexer": "ipython3",
   "version": "3.12.7"
  }
 },
 "nbformat": 4,
 "nbformat_minor": 5
}
